{
 "cells": [
  {
   "cell_type": "markdown",
   "id": "c28b7295-cd60-4f0f-9e36-d952d6536a31",
   "metadata": {
    "tags": []
   },
   "source": [
    "# CNN MODEL"
   ]
  },
  {
   "cell_type": "markdown",
   "id": "7e9af10d-9c3d-4e58-9d7f-79bc0bac3928",
   "metadata": {
    "tags": []
   },
   "source": [
    "## Import packages"
   ]
  },
  {
   "cell_type": "code",
   "execution_count": 4,
   "id": "5da3ebf7-04c9-4702-8faa-e0deee717f17",
   "metadata": {
    "tags": []
   },
   "outputs": [],
   "source": [
    "%load_ext autoreload\n",
    "%autoreload 2"
   ]
  },
  {
   "cell_type": "code",
   "execution_count": 5,
   "id": "37282ac5-d951-447b-88b0-af9613af60d7",
   "metadata": {
    "tags": []
   },
   "outputs": [],
   "source": [
    "from google.cloud import storage\n",
    "import json\n",
    "import ndjson\n",
    "import random\n",
    "import pandas as pd\n",
    "import numpy as np\n",
    "import matplotlib.pyplot as plt"
   ]
  },
  {
   "cell_type": "markdown",
   "id": "d3394547-782e-4d45-9c04-05738b79659d",
   "metadata": {},
   "source": [
    "## Download a sample class to examine data"
   ]
  },
  {
   "cell_type": "code",
   "execution_count": 164,
   "id": "102e134e-e016-48d2-9c91-db90631ad7e3",
   "metadata": {
    "collapsed": true,
    "jupyter": {
     "outputs_hidden": true
    },
    "tags": []
   },
   "outputs": [
    {
     "name": "stdout",
     "output_type": "stream",
     "text": [
      "gs://quickdraw_dataset/full/numpy_bitmap/:\n",
      "gs://quickdraw_dataset/full/numpy_bitmap/The Eiffel Tower.npy\n",
      "gs://quickdraw_dataset/full/numpy_bitmap/The Great Wall of China.npy\n",
      "gs://quickdraw_dataset/full/numpy_bitmap/The Mona Lisa.npy\n",
      "gs://quickdraw_dataset/full/numpy_bitmap/aircraft carrier.npy\n",
      "gs://quickdraw_dataset/full/numpy_bitmap/airplane.npy\n",
      "gs://quickdraw_dataset/full/numpy_bitmap/alarm clock.npy\n",
      "gs://quickdraw_dataset/full/numpy_bitmap/ambulance.npy\n",
      "gs://quickdraw_dataset/full/numpy_bitmap/angel.npy\n",
      "gs://quickdraw_dataset/full/numpy_bitmap/animal migration.npy\n",
      "gs://quickdraw_dataset/full/numpy_bitmap/ant.npy\n",
      "gs://quickdraw_dataset/full/numpy_bitmap/anvil.npy\n",
      "gs://quickdraw_dataset/full/numpy_bitmap/apple.npy\n",
      "gs://quickdraw_dataset/full/numpy_bitmap/arm.npy\n",
      "gs://quickdraw_dataset/full/numpy_bitmap/asparagus.npy\n",
      "gs://quickdraw_dataset/full/numpy_bitmap/axe.npy\n",
      "gs://quickdraw_dataset/full/numpy_bitmap/backpack.npy\n",
      "gs://quickdraw_dataset/full/numpy_bitmap/banana.npy\n",
      "gs://quickdraw_dataset/full/numpy_bitmap/bandage.npy\n",
      "gs://quickdraw_dataset/full/numpy_bitmap/barn.npy\n",
      "gs://quickdraw_dataset/full/numpy_bitmap/baseball bat.npy\n",
      "gs://quickdraw_dataset/full/numpy_bitmap/baseball.npy\n",
      "gs://quickdraw_dataset/full/numpy_bitmap/basket.npy\n",
      "gs://quickdraw_dataset/full/numpy_bitmap/basketball.npy\n",
      "gs://quickdraw_dataset/full/numpy_bitmap/bat.npy\n",
      "gs://quickdraw_dataset/full/numpy_bitmap/bathtub.npy\n",
      "gs://quickdraw_dataset/full/numpy_bitmap/beach.npy\n",
      "gs://quickdraw_dataset/full/numpy_bitmap/bear.npy\n",
      "gs://quickdraw_dataset/full/numpy_bitmap/beard.npy\n",
      "gs://quickdraw_dataset/full/numpy_bitmap/bed.npy\n",
      "gs://quickdraw_dataset/full/numpy_bitmap/bee.npy\n",
      "gs://quickdraw_dataset/full/numpy_bitmap/belt.npy\n",
      "gs://quickdraw_dataset/full/numpy_bitmap/bench.npy\n",
      "gs://quickdraw_dataset/full/numpy_bitmap/bicycle.npy\n",
      "gs://quickdraw_dataset/full/numpy_bitmap/binoculars.npy\n",
      "gs://quickdraw_dataset/full/numpy_bitmap/bird.npy\n",
      "gs://quickdraw_dataset/full/numpy_bitmap/birthday cake.npy\n",
      "gs://quickdraw_dataset/full/numpy_bitmap/blackberry.npy\n",
      "gs://quickdraw_dataset/full/numpy_bitmap/blueberry.npy\n",
      "gs://quickdraw_dataset/full/numpy_bitmap/book.npy\n",
      "gs://quickdraw_dataset/full/numpy_bitmap/boomerang.npy\n",
      "gs://quickdraw_dataset/full/numpy_bitmap/bottlecap.npy\n",
      "gs://quickdraw_dataset/full/numpy_bitmap/bowtie.npy\n",
      "gs://quickdraw_dataset/full/numpy_bitmap/bracelet.npy\n",
      "gs://quickdraw_dataset/full/numpy_bitmap/brain.npy\n",
      "gs://quickdraw_dataset/full/numpy_bitmap/bread.npy\n",
      "gs://quickdraw_dataset/full/numpy_bitmap/bridge.npy\n",
      "gs://quickdraw_dataset/full/numpy_bitmap/broccoli.npy\n",
      "gs://quickdraw_dataset/full/numpy_bitmap/broom.npy\n",
      "gs://quickdraw_dataset/full/numpy_bitmap/bucket.npy\n",
      "gs://quickdraw_dataset/full/numpy_bitmap/bulldozer.npy\n",
      "gs://quickdraw_dataset/full/numpy_bitmap/bus.npy\n",
      "gs://quickdraw_dataset/full/numpy_bitmap/bush.npy\n",
      "gs://quickdraw_dataset/full/numpy_bitmap/butterfly.npy\n",
      "gs://quickdraw_dataset/full/numpy_bitmap/cactus.npy\n",
      "gs://quickdraw_dataset/full/numpy_bitmap/cake.npy\n",
      "gs://quickdraw_dataset/full/numpy_bitmap/calculator.npy\n",
      "gs://quickdraw_dataset/full/numpy_bitmap/calendar.npy\n",
      "gs://quickdraw_dataset/full/numpy_bitmap/camel.npy\n",
      "gs://quickdraw_dataset/full/numpy_bitmap/camera.npy\n",
      "gs://quickdraw_dataset/full/numpy_bitmap/camouflage.npy\n",
      "gs://quickdraw_dataset/full/numpy_bitmap/campfire.npy\n",
      "gs://quickdraw_dataset/full/numpy_bitmap/candle.npy\n",
      "gs://quickdraw_dataset/full/numpy_bitmap/cannon.npy\n",
      "gs://quickdraw_dataset/full/numpy_bitmap/canoe.npy\n",
      "gs://quickdraw_dataset/full/numpy_bitmap/car.npy\n",
      "gs://quickdraw_dataset/full/numpy_bitmap/carrot.npy\n",
      "gs://quickdraw_dataset/full/numpy_bitmap/castle.npy\n",
      "gs://quickdraw_dataset/full/numpy_bitmap/cat.npy\n",
      "gs://quickdraw_dataset/full/numpy_bitmap/ceiling fan.npy\n",
      "gs://quickdraw_dataset/full/numpy_bitmap/cell phone.npy\n",
      "gs://quickdraw_dataset/full/numpy_bitmap/cello.npy\n",
      "gs://quickdraw_dataset/full/numpy_bitmap/chair.npy\n",
      "gs://quickdraw_dataset/full/numpy_bitmap/chandelier.npy\n",
      "gs://quickdraw_dataset/full/numpy_bitmap/church.npy\n",
      "gs://quickdraw_dataset/full/numpy_bitmap/circle.npy\n",
      "gs://quickdraw_dataset/full/numpy_bitmap/clarinet.npy\n",
      "gs://quickdraw_dataset/full/numpy_bitmap/clock.npy\n",
      "gs://quickdraw_dataset/full/numpy_bitmap/cloud.npy\n",
      "gs://quickdraw_dataset/full/numpy_bitmap/coffee cup.npy\n",
      "gs://quickdraw_dataset/full/numpy_bitmap/compass.npy\n",
      "gs://quickdraw_dataset/full/numpy_bitmap/computer.npy\n",
      "gs://quickdraw_dataset/full/numpy_bitmap/cookie.npy\n",
      "gs://quickdraw_dataset/full/numpy_bitmap/cooler.npy\n",
      "gs://quickdraw_dataset/full/numpy_bitmap/couch.npy\n",
      "gs://quickdraw_dataset/full/numpy_bitmap/cow.npy\n",
      "gs://quickdraw_dataset/full/numpy_bitmap/crab.npy\n",
      "gs://quickdraw_dataset/full/numpy_bitmap/crayon.npy\n",
      "gs://quickdraw_dataset/full/numpy_bitmap/crocodile.npy\n",
      "gs://quickdraw_dataset/full/numpy_bitmap/crown.npy\n",
      "gs://quickdraw_dataset/full/numpy_bitmap/cruise ship.npy\n",
      "gs://quickdraw_dataset/full/numpy_bitmap/cup.npy\n",
      "gs://quickdraw_dataset/full/numpy_bitmap/diamond.npy\n",
      "gs://quickdraw_dataset/full/numpy_bitmap/dishwasher.npy\n",
      "gs://quickdraw_dataset/full/numpy_bitmap/diving board.npy\n",
      "gs://quickdraw_dataset/full/numpy_bitmap/dog.npy\n",
      "gs://quickdraw_dataset/full/numpy_bitmap/dolphin.npy\n",
      "gs://quickdraw_dataset/full/numpy_bitmap/donut.npy\n",
      "gs://quickdraw_dataset/full/numpy_bitmap/door.npy\n",
      "gs://quickdraw_dataset/full/numpy_bitmap/dragon.npy\n",
      "gs://quickdraw_dataset/full/numpy_bitmap/dresser.npy\n",
      "gs://quickdraw_dataset/full/numpy_bitmap/drill.npy\n",
      "gs://quickdraw_dataset/full/numpy_bitmap/drums.npy\n",
      "gs://quickdraw_dataset/full/numpy_bitmap/duck.npy\n",
      "gs://quickdraw_dataset/full/numpy_bitmap/dumbbell.npy\n",
      "gs://quickdraw_dataset/full/numpy_bitmap/ear.npy\n",
      "gs://quickdraw_dataset/full/numpy_bitmap/elbow.npy\n",
      "gs://quickdraw_dataset/full/numpy_bitmap/elephant.npy\n",
      "gs://quickdraw_dataset/full/numpy_bitmap/envelope.npy\n",
      "gs://quickdraw_dataset/full/numpy_bitmap/eraser.npy\n",
      "gs://quickdraw_dataset/full/numpy_bitmap/eye.npy\n",
      "gs://quickdraw_dataset/full/numpy_bitmap/eyeglasses.npy\n",
      "gs://quickdraw_dataset/full/numpy_bitmap/face.npy\n",
      "gs://quickdraw_dataset/full/numpy_bitmap/fan.npy\n",
      "gs://quickdraw_dataset/full/numpy_bitmap/feather.npy\n",
      "gs://quickdraw_dataset/full/numpy_bitmap/fence.npy\n",
      "gs://quickdraw_dataset/full/numpy_bitmap/finger.npy\n",
      "gs://quickdraw_dataset/full/numpy_bitmap/fire hydrant.npy\n",
      "gs://quickdraw_dataset/full/numpy_bitmap/fireplace.npy\n",
      "gs://quickdraw_dataset/full/numpy_bitmap/firetruck.npy\n",
      "gs://quickdraw_dataset/full/numpy_bitmap/fish.npy\n",
      "gs://quickdraw_dataset/full/numpy_bitmap/flamingo.npy\n",
      "gs://quickdraw_dataset/full/numpy_bitmap/flashlight.npy\n",
      "gs://quickdraw_dataset/full/numpy_bitmap/flip flops.npy\n",
      "gs://quickdraw_dataset/full/numpy_bitmap/floor lamp.npy\n",
      "gs://quickdraw_dataset/full/numpy_bitmap/flower.npy\n",
      "gs://quickdraw_dataset/full/numpy_bitmap/flying saucer.npy\n",
      "gs://quickdraw_dataset/full/numpy_bitmap/foot.npy\n",
      "gs://quickdraw_dataset/full/numpy_bitmap/fork.npy\n",
      "gs://quickdraw_dataset/full/numpy_bitmap/frog.npy\n",
      "gs://quickdraw_dataset/full/numpy_bitmap/frying pan.npy\n",
      "gs://quickdraw_dataset/full/numpy_bitmap/garden hose.npy\n",
      "gs://quickdraw_dataset/full/numpy_bitmap/garden.npy\n",
      "gs://quickdraw_dataset/full/numpy_bitmap/giraffe.npy\n",
      "gs://quickdraw_dataset/full/numpy_bitmap/goatee.npy\n",
      "gs://quickdraw_dataset/full/numpy_bitmap/golf club.npy\n",
      "gs://quickdraw_dataset/full/numpy_bitmap/grapes.npy\n",
      "gs://quickdraw_dataset/full/numpy_bitmap/grass.npy\n",
      "gs://quickdraw_dataset/full/numpy_bitmap/guitar.npy\n",
      "gs://quickdraw_dataset/full/numpy_bitmap/hamburger.npy\n",
      "gs://quickdraw_dataset/full/numpy_bitmap/hammer.npy\n",
      "gs://quickdraw_dataset/full/numpy_bitmap/hand.npy\n",
      "gs://quickdraw_dataset/full/numpy_bitmap/harp.npy\n",
      "gs://quickdraw_dataset/full/numpy_bitmap/hat.npy\n",
      "gs://quickdraw_dataset/full/numpy_bitmap/headphones.npy\n",
      "gs://quickdraw_dataset/full/numpy_bitmap/hedgehog.npy\n",
      "gs://quickdraw_dataset/full/numpy_bitmap/helicopter.npy\n",
      "gs://quickdraw_dataset/full/numpy_bitmap/helmet.npy\n",
      "gs://quickdraw_dataset/full/numpy_bitmap/hexagon.npy\n",
      "gs://quickdraw_dataset/full/numpy_bitmap/hockey puck.npy\n",
      "gs://quickdraw_dataset/full/numpy_bitmap/hockey stick.npy\n",
      "gs://quickdraw_dataset/full/numpy_bitmap/horse.npy\n",
      "gs://quickdraw_dataset/full/numpy_bitmap/hospital.npy\n",
      "gs://quickdraw_dataset/full/numpy_bitmap/hot air balloon.npy\n",
      "gs://quickdraw_dataset/full/numpy_bitmap/hot dog.npy\n",
      "gs://quickdraw_dataset/full/numpy_bitmap/hot tub.npy\n",
      "gs://quickdraw_dataset/full/numpy_bitmap/hourglass.npy\n",
      "gs://quickdraw_dataset/full/numpy_bitmap/house plant.npy\n",
      "gs://quickdraw_dataset/full/numpy_bitmap/house.npy\n",
      "gs://quickdraw_dataset/full/numpy_bitmap/hurricane.npy\n",
      "gs://quickdraw_dataset/full/numpy_bitmap/ice cream.npy\n",
      "gs://quickdraw_dataset/full/numpy_bitmap/jacket.npy\n",
      "gs://quickdraw_dataset/full/numpy_bitmap/jail.npy\n",
      "gs://quickdraw_dataset/full/numpy_bitmap/kangaroo.npy\n",
      "gs://quickdraw_dataset/full/numpy_bitmap/key.npy\n",
      "gs://quickdraw_dataset/full/numpy_bitmap/keyboard.npy\n",
      "gs://quickdraw_dataset/full/numpy_bitmap/knee.npy\n",
      "gs://quickdraw_dataset/full/numpy_bitmap/knife.npy\n",
      "gs://quickdraw_dataset/full/numpy_bitmap/ladder.npy\n",
      "gs://quickdraw_dataset/full/numpy_bitmap/lantern.npy\n",
      "gs://quickdraw_dataset/full/numpy_bitmap/laptop.npy\n",
      "gs://quickdraw_dataset/full/numpy_bitmap/leaf.npy\n",
      "gs://quickdraw_dataset/full/numpy_bitmap/leg.npy\n",
      "gs://quickdraw_dataset/full/numpy_bitmap/light bulb.npy\n",
      "gs://quickdraw_dataset/full/numpy_bitmap/lighter.npy\n",
      "gs://quickdraw_dataset/full/numpy_bitmap/lighthouse.npy\n",
      "gs://quickdraw_dataset/full/numpy_bitmap/lightning.npy\n",
      "gs://quickdraw_dataset/full/numpy_bitmap/line.npy\n",
      "gs://quickdraw_dataset/full/numpy_bitmap/lion.npy\n",
      "gs://quickdraw_dataset/full/numpy_bitmap/lipstick.npy\n",
      "gs://quickdraw_dataset/full/numpy_bitmap/lobster.npy\n",
      "gs://quickdraw_dataset/full/numpy_bitmap/lollipop.npy\n",
      "gs://quickdraw_dataset/full/numpy_bitmap/mailbox.npy\n",
      "gs://quickdraw_dataset/full/numpy_bitmap/map.npy\n",
      "gs://quickdraw_dataset/full/numpy_bitmap/marker.npy\n",
      "gs://quickdraw_dataset/full/numpy_bitmap/matches.npy\n",
      "gs://quickdraw_dataset/full/numpy_bitmap/megaphone.npy\n",
      "gs://quickdraw_dataset/full/numpy_bitmap/mermaid.npy\n",
      "gs://quickdraw_dataset/full/numpy_bitmap/microphone.npy\n",
      "gs://quickdraw_dataset/full/numpy_bitmap/microwave.npy\n",
      "gs://quickdraw_dataset/full/numpy_bitmap/monkey.npy\n",
      "gs://quickdraw_dataset/full/numpy_bitmap/moon.npy\n",
      "gs://quickdraw_dataset/full/numpy_bitmap/mosquito.npy\n",
      "gs://quickdraw_dataset/full/numpy_bitmap/motorbike.npy\n",
      "gs://quickdraw_dataset/full/numpy_bitmap/mountain.npy\n",
      "gs://quickdraw_dataset/full/numpy_bitmap/mouse.npy\n",
      "gs://quickdraw_dataset/full/numpy_bitmap/moustache.npy\n",
      "gs://quickdraw_dataset/full/numpy_bitmap/mouth.npy\n",
      "gs://quickdraw_dataset/full/numpy_bitmap/mug.npy\n",
      "gs://quickdraw_dataset/full/numpy_bitmap/mushroom.npy\n",
      "gs://quickdraw_dataset/full/numpy_bitmap/nail.npy\n",
      "gs://quickdraw_dataset/full/numpy_bitmap/necklace.npy\n",
      "gs://quickdraw_dataset/full/numpy_bitmap/nose.npy\n",
      "gs://quickdraw_dataset/full/numpy_bitmap/ocean.npy\n",
      "gs://quickdraw_dataset/full/numpy_bitmap/octagon.npy\n",
      "gs://quickdraw_dataset/full/numpy_bitmap/octopus.npy\n",
      "gs://quickdraw_dataset/full/numpy_bitmap/onion.npy\n",
      "gs://quickdraw_dataset/full/numpy_bitmap/oven.npy\n",
      "gs://quickdraw_dataset/full/numpy_bitmap/owl.npy\n",
      "gs://quickdraw_dataset/full/numpy_bitmap/paint can.npy\n",
      "gs://quickdraw_dataset/full/numpy_bitmap/paintbrush.npy\n",
      "gs://quickdraw_dataset/full/numpy_bitmap/palm tree.npy\n",
      "gs://quickdraw_dataset/full/numpy_bitmap/panda.npy\n",
      "gs://quickdraw_dataset/full/numpy_bitmap/pants.npy\n",
      "gs://quickdraw_dataset/full/numpy_bitmap/paper clip.npy\n",
      "gs://quickdraw_dataset/full/numpy_bitmap/parachute.npy\n",
      "gs://quickdraw_dataset/full/numpy_bitmap/parrot.npy\n",
      "gs://quickdraw_dataset/full/numpy_bitmap/passport.npy\n",
      "gs://quickdraw_dataset/full/numpy_bitmap/peanut.npy\n",
      "gs://quickdraw_dataset/full/numpy_bitmap/pear.npy\n",
      "gs://quickdraw_dataset/full/numpy_bitmap/peas.npy\n",
      "gs://quickdraw_dataset/full/numpy_bitmap/pencil.npy\n",
      "gs://quickdraw_dataset/full/numpy_bitmap/penguin.npy\n",
      "gs://quickdraw_dataset/full/numpy_bitmap/piano.npy\n",
      "gs://quickdraw_dataset/full/numpy_bitmap/pickup truck.npy\n",
      "gs://quickdraw_dataset/full/numpy_bitmap/picture frame.npy\n",
      "gs://quickdraw_dataset/full/numpy_bitmap/pig.npy\n",
      "gs://quickdraw_dataset/full/numpy_bitmap/pillow.npy\n",
      "gs://quickdraw_dataset/full/numpy_bitmap/pineapple.npy\n",
      "gs://quickdraw_dataset/full/numpy_bitmap/pizza.npy\n",
      "gs://quickdraw_dataset/full/numpy_bitmap/pliers.npy\n",
      "gs://quickdraw_dataset/full/numpy_bitmap/police car.npy\n",
      "gs://quickdraw_dataset/full/numpy_bitmap/pond.npy\n",
      "gs://quickdraw_dataset/full/numpy_bitmap/pool.npy\n",
      "gs://quickdraw_dataset/full/numpy_bitmap/popsicle.npy\n",
      "gs://quickdraw_dataset/full/numpy_bitmap/postcard.npy\n",
      "gs://quickdraw_dataset/full/numpy_bitmap/potato.npy\n",
      "gs://quickdraw_dataset/full/numpy_bitmap/power outlet.npy\n",
      "gs://quickdraw_dataset/full/numpy_bitmap/purse.npy\n",
      "gs://quickdraw_dataset/full/numpy_bitmap/rabbit.npy\n",
      "gs://quickdraw_dataset/full/numpy_bitmap/raccoon.npy\n",
      "gs://quickdraw_dataset/full/numpy_bitmap/radio.npy\n",
      "gs://quickdraw_dataset/full/numpy_bitmap/rain.npy\n",
      "gs://quickdraw_dataset/full/numpy_bitmap/rainbow.npy\n",
      "gs://quickdraw_dataset/full/numpy_bitmap/rake.npy\n",
      "gs://quickdraw_dataset/full/numpy_bitmap/remote control.npy\n",
      "gs://quickdraw_dataset/full/numpy_bitmap/rhinoceros.npy\n",
      "gs://quickdraw_dataset/full/numpy_bitmap/rifle.npy\n",
      "gs://quickdraw_dataset/full/numpy_bitmap/river.npy\n",
      "gs://quickdraw_dataset/full/numpy_bitmap/roller coaster.npy\n",
      "gs://quickdraw_dataset/full/numpy_bitmap/rollerskates.npy\n",
      "gs://quickdraw_dataset/full/numpy_bitmap/sailboat.npy\n",
      "gs://quickdraw_dataset/full/numpy_bitmap/sandwich.npy\n",
      "gs://quickdraw_dataset/full/numpy_bitmap/saw.npy\n",
      "gs://quickdraw_dataset/full/numpy_bitmap/saxophone.npy\n",
      "gs://quickdraw_dataset/full/numpy_bitmap/school bus.npy\n",
      "gs://quickdraw_dataset/full/numpy_bitmap/scissors.npy\n",
      "gs://quickdraw_dataset/full/numpy_bitmap/scorpion.npy\n",
      "gs://quickdraw_dataset/full/numpy_bitmap/screwdriver.npy\n",
      "gs://quickdraw_dataset/full/numpy_bitmap/sea turtle.npy\n",
      "gs://quickdraw_dataset/full/numpy_bitmap/see saw.npy\n",
      "gs://quickdraw_dataset/full/numpy_bitmap/shark.npy\n",
      "gs://quickdraw_dataset/full/numpy_bitmap/sheep.npy\n",
      "gs://quickdraw_dataset/full/numpy_bitmap/shoe.npy\n",
      "gs://quickdraw_dataset/full/numpy_bitmap/shorts.npy\n",
      "gs://quickdraw_dataset/full/numpy_bitmap/shovel.npy\n",
      "gs://quickdraw_dataset/full/numpy_bitmap/sink.npy\n",
      "gs://quickdraw_dataset/full/numpy_bitmap/skateboard.npy\n",
      "gs://quickdraw_dataset/full/numpy_bitmap/skull.npy\n",
      "gs://quickdraw_dataset/full/numpy_bitmap/skyscraper.npy\n",
      "gs://quickdraw_dataset/full/numpy_bitmap/sleeping bag.npy\n",
      "gs://quickdraw_dataset/full/numpy_bitmap/smiley face.npy\n",
      "gs://quickdraw_dataset/full/numpy_bitmap/snail.npy\n",
      "gs://quickdraw_dataset/full/numpy_bitmap/snake.npy\n",
      "gs://quickdraw_dataset/full/numpy_bitmap/snorkel.npy\n",
      "gs://quickdraw_dataset/full/numpy_bitmap/snowflake.npy\n",
      "gs://quickdraw_dataset/full/numpy_bitmap/snowman.npy\n",
      "gs://quickdraw_dataset/full/numpy_bitmap/soccer ball.npy\n",
      "gs://quickdraw_dataset/full/numpy_bitmap/sock.npy\n",
      "gs://quickdraw_dataset/full/numpy_bitmap/speedboat.npy\n",
      "gs://quickdraw_dataset/full/numpy_bitmap/spider.npy\n",
      "gs://quickdraw_dataset/full/numpy_bitmap/spoon.npy\n",
      "gs://quickdraw_dataset/full/numpy_bitmap/spreadsheet.npy\n",
      "gs://quickdraw_dataset/full/numpy_bitmap/square.npy\n",
      "gs://quickdraw_dataset/full/numpy_bitmap/squiggle.npy\n",
      "gs://quickdraw_dataset/full/numpy_bitmap/squirrel.npy\n",
      "gs://quickdraw_dataset/full/numpy_bitmap/stairs.npy\n",
      "gs://quickdraw_dataset/full/numpy_bitmap/star.npy\n",
      "gs://quickdraw_dataset/full/numpy_bitmap/steak.npy\n",
      "gs://quickdraw_dataset/full/numpy_bitmap/stereo.npy\n",
      "gs://quickdraw_dataset/full/numpy_bitmap/stethoscope.npy\n",
      "gs://quickdraw_dataset/full/numpy_bitmap/stitches.npy\n",
      "gs://quickdraw_dataset/full/numpy_bitmap/stop sign.npy\n",
      "gs://quickdraw_dataset/full/numpy_bitmap/stove.npy\n",
      "gs://quickdraw_dataset/full/numpy_bitmap/strawberry.npy\n",
      "gs://quickdraw_dataset/full/numpy_bitmap/streetlight.npy\n",
      "gs://quickdraw_dataset/full/numpy_bitmap/string bean.npy\n",
      "gs://quickdraw_dataset/full/numpy_bitmap/submarine.npy\n",
      "gs://quickdraw_dataset/full/numpy_bitmap/suitcase.npy\n",
      "gs://quickdraw_dataset/full/numpy_bitmap/sun.npy\n",
      "gs://quickdraw_dataset/full/numpy_bitmap/swan.npy\n",
      "gs://quickdraw_dataset/full/numpy_bitmap/sweater.npy\n",
      "gs://quickdraw_dataset/full/numpy_bitmap/swing set.npy\n",
      "gs://quickdraw_dataset/full/numpy_bitmap/sword.npy\n",
      "gs://quickdraw_dataset/full/numpy_bitmap/syringe.npy\n",
      "gs://quickdraw_dataset/full/numpy_bitmap/t-shirt.npy\n",
      "gs://quickdraw_dataset/full/numpy_bitmap/table.npy\n",
      "gs://quickdraw_dataset/full/numpy_bitmap/teapot.npy\n",
      "gs://quickdraw_dataset/full/numpy_bitmap/teddy-bear.npy\n",
      "gs://quickdraw_dataset/full/numpy_bitmap/telephone.npy\n",
      "gs://quickdraw_dataset/full/numpy_bitmap/television.npy\n",
      "gs://quickdraw_dataset/full/numpy_bitmap/tennis racquet.npy\n",
      "gs://quickdraw_dataset/full/numpy_bitmap/tent.npy\n",
      "gs://quickdraw_dataset/full/numpy_bitmap/tiger.npy\n",
      "gs://quickdraw_dataset/full/numpy_bitmap/toaster.npy\n",
      "gs://quickdraw_dataset/full/numpy_bitmap/toe.npy\n",
      "gs://quickdraw_dataset/full/numpy_bitmap/toilet.npy\n",
      "gs://quickdraw_dataset/full/numpy_bitmap/tooth.npy\n",
      "gs://quickdraw_dataset/full/numpy_bitmap/toothbrush.npy\n",
      "gs://quickdraw_dataset/full/numpy_bitmap/toothpaste.npy\n",
      "gs://quickdraw_dataset/full/numpy_bitmap/tornado.npy\n",
      "gs://quickdraw_dataset/full/numpy_bitmap/tractor.npy\n",
      "gs://quickdraw_dataset/full/numpy_bitmap/traffic light.npy\n",
      "gs://quickdraw_dataset/full/numpy_bitmap/train.npy\n",
      "gs://quickdraw_dataset/full/numpy_bitmap/tree.npy\n",
      "gs://quickdraw_dataset/full/numpy_bitmap/triangle.npy\n",
      "gs://quickdraw_dataset/full/numpy_bitmap/trombone.npy\n",
      "gs://quickdraw_dataset/full/numpy_bitmap/truck.npy\n",
      "gs://quickdraw_dataset/full/numpy_bitmap/trumpet.npy\n",
      "gs://quickdraw_dataset/full/numpy_bitmap/umbrella.npy\n",
      "gs://quickdraw_dataset/full/numpy_bitmap/underwear.npy\n",
      "gs://quickdraw_dataset/full/numpy_bitmap/van.npy\n",
      "gs://quickdraw_dataset/full/numpy_bitmap/vase.npy\n",
      "gs://quickdraw_dataset/full/numpy_bitmap/violin.npy\n",
      "gs://quickdraw_dataset/full/numpy_bitmap/washing machine.npy\n",
      "gs://quickdraw_dataset/full/numpy_bitmap/watermelon.npy\n",
      "gs://quickdraw_dataset/full/numpy_bitmap/waterslide.npy\n",
      "gs://quickdraw_dataset/full/numpy_bitmap/whale.npy\n",
      "gs://quickdraw_dataset/full/numpy_bitmap/wheel.npy\n",
      "gs://quickdraw_dataset/full/numpy_bitmap/windmill.npy\n",
      "gs://quickdraw_dataset/full/numpy_bitmap/wine bottle.npy\n",
      "gs://quickdraw_dataset/full/numpy_bitmap/wine glass.npy\n",
      "gs://quickdraw_dataset/full/numpy_bitmap/wristwatch.npy\n",
      "gs://quickdraw_dataset/full/numpy_bitmap/yoga.npy\n",
      "gs://quickdraw_dataset/full/numpy_bitmap/zebra.npy\n",
      "gs://quickdraw_dataset/full/numpy_bitmap/zigzag.npy\n"
     ]
    }
   ],
   "source": [
    "! gsutil ls -r gs://quickdraw_dataset/full/numpy_bitmap/"
   ]
  },
  {
   "cell_type": "code",
   "execution_count": 18,
   "id": "f881fc37-3bbc-4012-ae62-54651477750f",
   "metadata": {
    "tags": []
   },
   "outputs": [
    {
     "name": "stdout",
     "output_type": "stream",
     "text": [
      "Copying gs://quickdraw_dataset/full/numpy_bitmap/The Mona Lisa.npy...\n",
      "\\ [1 files][ 90.8 MiB/ 90.8 MiB]                                                \n",
      "Operation completed over 1 objects/90.8 MiB.                                     \n"
     ]
    }
   ],
   "source": [
    "! gsutil cp 'gs://quickdraw_dataset/full/numpy_bitmap/The Mona Lisa.npy' './data/numpy_bitmap/The Mona Lisa.npy'"
   ]
  },
  {
   "cell_type": "code",
   "execution_count": 165,
   "id": "cd30d03e-526b-4be9-a672-d4032ea19b8b",
   "metadata": {
    "tags": []
   },
   "outputs": [
    {
     "data": {
      "text/plain": [
       "'/home/jupyter/data'"
      ]
     },
     "execution_count": 165,
     "metadata": {},
     "output_type": "execute_result"
    }
   ],
   "source": [
    "pwd"
   ]
  },
  {
   "cell_type": "code",
   "execution_count": 12,
   "id": "90d902d3-d432-44a7-ab0d-6eaa56a69b00",
   "metadata": {
    "tags": []
   },
   "outputs": [],
   "source": [
    "# Load data into numpy array from downloaded file\n",
    "data = np.load('/home/jupyter/data/numpy_bitmap/The Mona Lisa.npy')"
   ]
  },
  {
   "cell_type": "code",
   "execution_count": 29,
   "id": "0de68b0f-52b5-431f-8b55-4223d48ca084",
   "metadata": {
    "tags": []
   },
   "outputs": [
    {
     "data": {
      "text/plain": [
       "(121383, 784)"
      ]
     },
     "execution_count": 29,
     "metadata": {},
     "output_type": "execute_result"
    }
   ],
   "source": [
    "data.shape"
   ]
  },
  {
   "cell_type": "code",
   "execution_count": 33,
   "id": "865c7426-0acd-4629-accb-99a7a930ec44",
   "metadata": {
    "tags": []
   },
   "outputs": [],
   "source": [
    "def draw_bitmap(array):\n",
    "    # Reshape the array to 28x28\n",
    "    bitmap = array.reshape(28, 28)\n",
    "\n",
    "    # Plot the bitmap\n",
    "    plt.imshow(bitmap, cmap='gray')\n",
    "    plt.axis('off')  # Turn off axis\n",
    "    plt.show()\n",
    "\n",
    "def draw_bitmap_grid(data, rows, cols):\n",
    "    n_rows, n_cols = rows, cols\n",
    "    fig, axs = plt.subplots(nrows=n_rows, ncols=n_cols, figsize=(10, 10))\n",
    "\n",
    "    for i in range(n_rows):\n",
    "        for j in range(n_cols):\n",
    "            index = i * n_cols + j\n",
    "            bitmap = data[index].reshape(28, 28)\n",
    "            axs[i, j].imshow(bitmap, cmap='gray')\n",
    "            axs[i, j].axis('off')\n",
    "\n",
    "    plt.tight_layout()\n",
    "    plt.show()"
   ]
  },
  {
   "cell_type": "code",
   "execution_count": 32,
   "id": "7cdfe8ee-caac-40ae-bfdb-b0767ad55216",
   "metadata": {
    "tags": []
   },
   "outputs": [
    {
     "data": {
      "image/png": "[encoded data removed]",
      "text/plain": [
       "<Figure size 640x480 with 1 Axes>"
      ]
     },
     "metadata": {},
     "output_type": "display_data"
    }
   ],
   "source": [
    "draw_bitmap(data[0])"
   ]
  },
  {
   "cell_type": "code",
   "execution_count": 34,
   "id": "e449f91d-f876-4b77-94e0-d79f747df1e8",
   "metadata": {
    "tags": []
   },
   "outputs": [
    {
     "data": {
      "image/png": "[encoded data removed]",
      "text/plain": [
       "<Figure size 1000x1000 with 64 Axes>"
      ]
     },
     "metadata": {},
     "output_type": "display_data"
    }
   ],
   "source": [
    "draw_bitmap_grid(data, 8, 8)"
   ]
  },
  {
   "cell_type": "code",
   "execution_count": null,
   "id": "a748c1be-1240-4533-b7e7-7c34ba27fe50",
   "metadata": {},
   "outputs": [],
   "source": []
  },
  {
   "cell_type": "markdown",
   "id": "c631edaa-5028-4137-a2ab-ffd0fafad1b0",
   "metadata": {
    "tags": []
   },
   "source": [
    "## Download our 50 class subset"
   ]
  },
  {
   "cell_type": "code",
   "execution_count": 13,
   "id": "3b60407a-b341-45f9-95d8-659f88dd6d9b",
   "metadata": {
    "tags": []
   },
   "outputs": [],
   "source": [
    "with open('/home/jupyter/data/mappings/dict_50_class_subset.json','r') as f :\n",
    "    dict_50_class_subset = json.load(f)"
   ]
  },
  {
   "cell_type": "code",
   "execution_count": 16,
   "id": "bee27ec8-c429-4f21-b980-e0ad9dc38ce2",
   "metadata": {
    "tags": []
   },
   "outputs": [],
   "source": [
    "# dict_50_class_subset = {'aircraft carrier': 0, 'arm': 1, 'asparagus': 2, 'backpack': 3, 'banana': 4, 'basketball': 5, 'bottlecap': 6, 'bread': 7, 'broom': 8, 'bulldozer': 9, 'butterfly': 10, 'camel': 11, 'canoe': 12, 'chair': 13, 'compass': 14, 'cookie': 15, 'drums': 16, 'eyeglasses': 17, 'face': 18, 'fan': 19, 'fence': 20, 'fish': 21, 'flying saucer': 22, 'grapes': 23, 'hand': 24, 'hat': 25, 'horse': 26, 'light bulb': 27, 'lighthouse': 28, 'line': 29, 'marker': 30, 'mountain': 31, 'mouse': 32, 'parachute': 33, 'passport': 34, 'pliers': 35, 'potato': 36, 'sea turtle': 37, 'snowflake': 38, 'spider': 39, 'square': 40, 'steak': 41, 'swing set': 42, 'sword': 43, 'telephone': 44, 'television': 45, 'tooth': 46, 'traffic light': 47, 'trumpet': 48, 'violin': 49}"
   ]
  },
  {
   "cell_type": "code",
   "execution_count": 17,
   "id": "50696406-ca03-4dab-a810-ec96b246c185",
   "metadata": {
    "tags": []
   },
   "outputs": [
    {
     "name": "stdout",
     "output_type": "stream",
     "text": [
      "['aircraft carrier.npy', 'arm.npy', 'asparagus.npy', 'backpack.npy', 'banana.npy', 'basketball.npy', 'bottlecap.npy', 'bread.npy', 'broom.npy', 'bulldozer.npy', 'butterfly.npy', 'camel.npy', 'canoe.npy', 'chair.npy', 'compass.npy', 'cookie.npy', 'drums.npy', 'eyeglasses.npy', 'face.npy', 'fan.npy', 'fence.npy', 'fish.npy', 'flying saucer.npy', 'grapes.npy', 'hand.npy', 'hat.npy', 'horse.npy', 'light bulb.npy', 'lighthouse.npy', 'line.npy', 'marker.npy', 'mountain.npy', 'mouse.npy', 'parachute.npy', 'passport.npy', 'pliers.npy', 'potato.npy', 'sea turtle.npy', 'snowflake.npy', 'spider.npy', 'square.npy', 'steak.npy', 'swing set.npy', 'sword.npy', 'telephone.npy', 'television.npy', 'tooth.npy', 'traffic light.npy', 'trumpet.npy', 'violin.npy']\n"
     ]
    }
   ],
   "source": [
    "file_list = [name+'.npy' for name in list(dict_50_class_subset.keys())]\n",
    "print(file_list)"
   ]
  },
  {
   "cell_type": "code",
   "execution_count": 70,
   "id": "a7061651-551d-4f73-91c2-b212b096d037",
   "metadata": {
    "tags": []
   },
   "outputs": [],
   "source": [
    "# Download a blob from a bucket and store it in memory\n",
    "def download_numpy_bitmap_to_file(bucket_name, source_blob_name, destination_path) -> None:\n",
    "    '''\n",
    "    Downloads a (ndjson) blob from the bucket and return json file as dict\n",
    "    '''\n",
    "    # Initialize a client\n",
    "    storage_client = storage.Client()\n",
    "\n",
    "    # Get the bucket\n",
    "    bucket = storage_client.bucket(bucket_name)\n",
    "\n",
    "    # Get the blob\n",
    "    blob = bucket.blob(source_blob_name)\n",
    "\n",
    "    # Download the file to local storage\n",
    "    blob.download_to_filename(destination_path)\n",
    "\n",
    "    return None"
   ]
  },
  {
   "cell_type": "code",
   "execution_count": 18,
   "id": "55063d97-d6f4-4821-b9bd-2629e20412dc",
   "metadata": {
    "tags": []
   },
   "outputs": [],
   "source": [
    "bucket_name = 'quickdraw_dataset'\n",
    "blob_prefix = 'full/numpy_bitmap/'\n",
    "local_folder_path = '/home/jupyter/data/numpy_bitmap/'"
   ]
  },
  {
   "cell_type": "code",
   "execution_count": 2,
   "id": "3223c22b-59fe-4e6e-ad03-870f36e1bd7a",
   "metadata": {
    "tags": []
   },
   "outputs": [
    {
     "ename": "NameError",
     "evalue": "name 'file_list' is not defined",
     "output_type": "error",
     "traceback": [
      "\u001b[0;31m---------------------------------------------------------------------------\u001b[0m",
      "\u001b[0;31mNameError\u001b[0m                                 Traceback (most recent call last)",
      "Cell \u001b[0;32mIn[2], line 1\u001b[0m\n\u001b[0;32m----> 1\u001b[0m \u001b[38;5;28;01mfor\u001b[39;00m file \u001b[38;5;129;01min\u001b[39;00m \u001b[43mfile_list\u001b[49m :\n\u001b[1;32m      2\u001b[0m     source_blob_name \u001b[38;5;241m=\u001b[39m blob_prefix\u001b[38;5;241m+\u001b[39mfile\n\u001b[1;32m      3\u001b[0m     \u001b[38;5;28mprint\u001b[39m(source_blob_name)\n",
      "\u001b[0;31mNameError\u001b[0m: name 'file_list' is not defined"
     ]
    }
   ],
   "source": [
    "for file in file_list :\n",
    "    source_blob_name = blob_prefix+file\n",
    "    print(source_blob_name)\n",
    "    destination_file_path = local_folder_path+file\n",
    "    print(destination_file_path)\n",
    "    download_numpy_bitmap_to_file(bucket_name, source_blob_name, destination_file_path)\n",
    "    print(f'Downloaded {file}')"
   ]
  },
  {
   "cell_type": "markdown",
   "id": "cd2b47e1-c897-4e04-972f-7d7714b866d9",
   "metadata": {
    "tags": []
   },
   "source": [
    "### Take 10% of 50 class subset\n",
    "Create list of dict -> each dict is one bmp"
   ]
  },
  {
   "cell_type": "code",
   "execution_count": 19,
   "id": "7fe29848-526c-438a-9869-01415f6d7b7a",
   "metadata": {
    "collapsed": true,
    "jupyter": {
     "outputs_hidden": true
    },
    "tags": []
   },
   "outputs": [
    {
     "name": "stdout",
     "output_type": "stream",
     "text": [
      "Loaded aircraft carrier.npy with 116504 rows\n",
      "Adding 11651 rows\n",
      "Loaded arm.npy with 120951 rows\n",
      "Adding 12096 rows\n",
      "Loaded asparagus.npy with 168102 rows\n",
      "Adding 16811 rows\n",
      "Loaded backpack.npy with 125801 rows\n",
      "Adding 12581 rows\n",
      "Loaded banana.npy with 307936 rows\n",
      "Adding 30794 rows\n",
      "Loaded basketball.npy with 133793 rows\n",
      "Adding 13380 rows\n",
      "Loaded bottlecap.npy with 153207 rows\n",
      "Adding 15321 rows\n",
      "Loaded bread.npy with 120570 rows\n",
      "Adding 12057 rows\n",
      "Loaded broom.npy with 116927 rows\n",
      "Adding 11693 rows\n",
      "Loaded bulldozer.npy with 187409 rows\n",
      "Adding 18741 rows\n",
      "Loaded butterfly.npy with 117999 rows\n",
      "Adding 11800 rows\n",
      "Loaded camel.npy with 121399 rows\n",
      "Adding 12140 rows\n",
      "Loaded canoe.npy with 123767 rows\n",
      "Adding 12377 rows\n",
      "Loaded chair.npy with 222706 rows\n",
      "Adding 22271 rows\n",
      "Loaded compass.npy with 127609 rows\n",
      "Adding 12761 rows\n",
      "Loaded cookie.npy with 131353 rows\n",
      "Adding 13136 rows\n",
      "Loaded drums.npy with 137299 rows\n",
      "Adding 13730 rows\n",
      "Loaded eyeglasses.npy with 225762 rows\n",
      "Adding 22577 rows\n",
      "Loaded face.npy with 161666 rows\n",
      "Adding 16167 rows\n",
      "Loaded fan.npy with 136158 rows\n",
      "Adding 13616 rows\n",
      "Loaded fence.npy with 129426 rows\n",
      "Adding 12943 rows\n",
      "Loaded fish.npy with 134150 rows\n",
      "Adding 13415 rows\n",
      "Loaded flying saucer.npy with 151966 rows\n",
      "Adding 15197 rows\n",
      "Loaded grapes.npy with 155305 rows\n",
      "Adding 15531 rows\n",
      "Loaded hand.npy with 291773 rows\n",
      "Adding 29178 rows\n",
      "Loaded hat.npy with 222610 rows\n",
      "Adding 22261 rows\n",
      "Loaded horse.npy with 178286 rows\n",
      "Adding 17829 rows\n",
      "Loaded light bulb.npy with 120879 rows\n",
      "Adding 12088 rows\n",
      "Loaded lighthouse.npy with 160903 rows\n",
      "Adding 16091 rows\n",
      "Loaded line.npy with 143549 rows\n",
      "Adding 14355 rows\n",
      "Loaded marker.npy with 319136 rows\n",
      "Adding 31914 rows\n",
      "Loaded mountain.npy with 128540 rows\n",
      "Adding 12854 rows\n",
      "Loaded mouse.npy with 178826 rows\n",
      "Adding 17883 rows\n",
      "Loaded parachute.npy with 127319 rows\n",
      "Adding 12732 rows\n",
      "Loaded passport.npy with 150265 rows\n",
      "Adding 15027 rows\n",
      "Loaded pliers.npy with 172549 rows\n",
      "Adding 17255 rows\n",
      "Loaded potato.npy with 329204 rows\n",
      "Adding 32921 rows\n",
      "Loaded sea turtle.npy with 119876 rows\n",
      "Adding 11988 rows\n",
      "Loaded snowflake.npy with 116685 rows\n",
      "Adding 11669 rows\n",
      "Loaded spider.npy with 209447 rows\n",
      "Adding 20945 rows\n",
      "Loaded square.npy with 125145 rows\n",
      "Adding 12515 rows\n",
      "Loaded steak.npy with 122042 rows\n",
      "Adding 12205 rows\n",
      "Loaded swing set.npy with 119357 rows\n",
      "Adding 11936 rows\n",
      "Loaded sword.npy with 123802 rows\n",
      "Adding 12381 rows\n",
      "Loaded telephone.npy with 127885 rows\n",
      "Adding 12789 rows\n",
      "Loaded television.npy with 123137 rows\n",
      "Adding 12314 rows\n",
      "Loaded tooth.npy with 125064 rows\n",
      "Adding 12507 rows\n",
      "Loaded traffic light.npy with 125321 rows\n",
      "Adding 12533 rows\n",
      "Loaded trumpet.npy with 169547 rows\n",
      "Adding 16955 rows\n",
      "Loaded violin.npy with 217260 rows\n",
      "Adding 21726 rows\n"
     ]
    }
   ],
   "source": [
    "# Create sample_np_bmps - a list of dictionaries\n",
    "step_size = 10 # i.e. 10% sample\n",
    "bmp_50class_10pc = []\n",
    "\n",
    "# Loop through each numpy file\n",
    "for i in range(len(file_list)):\n",
    "    file = file_list[i]\n",
    "    file_path = local_folder_path+file\n",
    "\n",
    "    # Load .np file\n",
    "    array = np.load(file_path)\n",
    "    print(f'Loaded {file} with {len(array)} rows')\n",
    "\n",
    "    # Create a list of dictionaries - stepping through sampled array (i.e step size of 10 = 10% sample)\n",
    "    dict_list = [{'class':file.replace('.npy',''),'bmp':bmp} for bmp in array[::step_size]]\n",
    "    print(f'Adding {len(dict_list)} rows')\n",
    "\n",
    "    bmp_50class_10pc = bmp_50class_10pc + dict_list"
   ]
  },
  {
   "cell_type": "code",
   "execution_count": 20,
   "id": "afb5a13d-4ee0-4eca-a561-eeb7929c3ae4",
   "metadata": {
    "collapsed": true,
    "jupyter": {
     "outputs_hidden": true
    },
    "tags": []
   },
   "outputs": [
    {
     "name": "stdout",
     "output_type": "stream",
     "text": [
      "797637\n",
      "{'class': 'aircraft carrier', 'bmp': array([  0,   0,   0,   0,   0,   0,   0,   0,   0,   0,   0,   0,   0,\n",
      "         0,   0,   0,   0,   0,   0,   0,   0,   0,   0,   0,   0,   0,\n",
      "         0,   0,   0,   0,   0,   0,   0,   0,   0,   0,   0,   0,   0,\n",
      "         0,   0,   0,   0,   0,   0,   0,   0,   0,   0,   0,   0,   0,\n",
      "         0,   0,   0,   0,   0,   0,   0,   0,   0,   0,   0,   0,   0,\n",
      "         0,   0,   0,   0,   0,   0,   0,   0,   0,   0,   0,   0,   0,\n",
      "         0,   0,   0,   0,   0,   0,   0,   0,   0,   0,   0,   0,   0,\n",
      "         0,   0,   0,   0,   0,   0,   0,   0,   0,   0,   0,   0,   0,\n",
      "         0,   0,   0,   0,   0,   0,   0,   0,   0,   0,   0,   0,   0,\n",
      "         0,   0,   0,   0,   0,   0,   0,   0,   0,   0,   0,   0,   0,\n",
      "         0,   0,   0,   0,   0,   0,   0,   0,   0,   0,   0,   0,   0,\n",
      "         0,   0,   0,   0,   0,   0,   0,   0,   0,   0,   0,   0,   0,\n",
      "         0,   0,   0,   0,   0,   0,   0,   0,   0,   0,   0,   0,   0,\n",
      "         0,   0,   0,   0,   0,   0,   0,   0,   0,   0,   0,   0,   0,\n",
      "         0,   0,   0,   0,   0,   0,   0,   0,   0,   0,   0,   0,   0,\n",
      "         0,   0,   0,   0,   0,   0,   0,   0,   0,   0,   0,   0,   0,\n",
      "         0,   0,   0,   0,   0,   0,   0,   0,   0,   0,   0,   0,   0,\n",
      "         0,   0,   0,   0,   0,   0,   0,   5,  16,   0,   0,   0,   0,\n",
      "         0,   0,   0,   0,   0,   0,   0,   0,   0,   0,   0,   0,   0,\n",
      "         0,   0,   0,   0,   0,   0,   0,   0,  83, 248, 253, 101,   0,\n",
      "         0,   0,   0,   0,   0,   0,   0,   0,   0,   0,   0,   0,   0,\n",
      "         0,   0,   0,   0,   0,   0,   0,   0,   0,   0,  50, 252, 255,\n",
      "       184,  33,  18,  12,   0,   0,   0,   0,   0,   0,   0,   0,   0,\n",
      "         0,   0,   0,   0,   0,   0,   0,   0,   0,   0,   0,   0,   0,\n",
      "       106, 255, 192, 255, 255, 254,  74,   0,   0,   0,   0,   0,   0,\n",
      "         0,   0,   0,   0,   0,   0,   0,   0,   0,   0,   0,   0,   0,\n",
      "         0,   0, 101, 255, 246, 252, 231, 255,  80,   0,   0,   0,   0,\n",
      "         0,   0,   0,   0,   0,   0,   0,   0,   0,   0,   0,   0,   0,\n",
      "         0,  14, 114, 136, 190, 253, 214, 224, 229, 255, 177, 136, 136,\n",
      "       136, 136, 136, 136, 136, 136, 136, 128, 112,  97,  82,  67,  48,\n",
      "         2,   0,   0,  93, 255, 243, 239, 242, 238, 238, 240, 247, 238,\n",
      "       238, 238, 238, 238, 238, 238, 238, 238, 238, 249, 255, 255, 255,\n",
      "       255, 255,  94,   0,   0,  22, 251, 125,   0,   0,   0,   0,   0,\n",
      "         0,   0,   0,   0,   0,   0,   0,   0,   0,   0,   0,   0,   9,\n",
      "        24,  39,  84, 255,  87,   0,   0,   0, 181, 248, 191, 159,  68,\n",
      "        51,  51,  34,  34,  23,  17,  11,   0,   0,   0,   0,   0,   0,\n",
      "         0,   6,  24,  43, 107, 255,  61,   0,   0,   0,  32, 133, 208,\n",
      "       255, 255, 255, 255, 255, 255, 255, 255, 255, 255, 255, 238, 238,\n",
      "       227, 225, 243, 255, 255, 255, 255, 233,  21,   0,   0,   0,   0,\n",
      "         0,  14, 174, 215, 227, 236, 244, 255, 255, 255, 255, 188, 125,\n",
      "       136, 137, 153, 151, 133, 115,  97,  79,  58,   6,   0,   0,   0,\n",
      "         0,   0,   0,   0,   0,   0,   0,   0,   0,   0,  12,  23,  34,\n",
      "         4,   0,   0,   0,   0,   0,   0,   0,   0,   0,   0,   0,   0,\n",
      "         0,   0,   0,   0,   0,   0,   0,   0,   0,   0,   0,   0,   0,\n",
      "         0,   0,   0,   0,   0,   0,   0,   0,   0,   0,   0,   0,   0,\n",
      "         0,   0,   0,   0,   0,   0,   0,   0,   0,   0,   0,   0,   0,\n",
      "         0,   0,   0,   0,   0,   0,   0,   0,   0,   0,   0,   0,   0,\n",
      "         0,   0,   0,   0,   0,   0,   0,   0,   0,   0,   0,   0,   0,\n",
      "         0,   0,   0,   0,   0,   0,   0,   0,   0,   0,   0,   0,   0,\n",
      "         0,   0,   0,   0,   0,   0,   0,   0,   0,   0,   0,   0,   0,\n",
      "         0,   0,   0,   0,   0,   0,   0,   0,   0,   0,   0,   0,   0,\n",
      "         0,   0,   0,   0,   0,   0,   0,   0,   0,   0,   0,   0,   0,\n",
      "         0,   0,   0,   0,   0,   0,   0,   0,   0,   0,   0,   0,   0,\n",
      "         0,   0,   0,   0,   0,   0,   0,   0,   0,   0,   0,   0,   0,\n",
      "         0,   0,   0,   0,   0,   0,   0,   0,   0,   0,   0,   0,   0,\n",
      "         0,   0,   0,   0,   0,   0,   0,   0,   0,   0,   0,   0,   0,\n",
      "         0,   0,   0,   0,   0,   0,   0,   0,   0,   0,   0,   0,   0,\n",
      "         0,   0,   0,   0,   0,   0,   0,   0,   0,   0,   0,   0,   0,\n",
      "         0,   0,   0,   0,   0,   0,   0,   0,   0,   0,   0,   0,   0,\n",
      "         0,   0,   0,   0,   0,   0,   0,   0,   0,   0,   0,   0,   0,\n",
      "         0,   0,   0,   0], dtype=uint8)}\n"
     ]
    }
   ],
   "source": [
    "print(len(bmp_50class_10pc))\n",
    "print(bmp_50class_10pc[0])"
   ]
  },
  {
   "cell_type": "code",
   "execution_count": 146,
   "id": "166f5c9c-57c4-41b0-ac26-88b3494a6569",
   "metadata": {
    "tags": []
   },
   "outputs": [],
   "source": [
    "# # Save bmp sample list to folder\n",
    "# def save_json_to_local (data: list, folder_path: str, file_name: str) -> None:\n",
    "#     file_path = folder_path+file_name\n",
    "#     with open(file_path, 'w') as file :\n",
    "#         json.dump(data, file)\n",
    "#     print(f'Saved data to {file_path}')\n",
    "#     return None\n",
    "\n",
    "# bmp_50class_10pc_tolist = bmp_50class_10pc.copy()\n",
    "# for bmp in bmp_50class_10pc_tolist :\n",
    "#     bmp['bmp'] = bmp['bmp'].tolist()\n",
    "\n",
    "# save_json_to_local(bmp_50class_10pc_tolist, local_folder_path, 'bmp_50class_10pc_tolist.json')"
   ]
  },
  {
   "cell_type": "markdown",
   "id": "2c5aee21-2176-4eb7-b1dc-f6d22aeda7a8",
   "metadata": {
    "tags": []
   },
   "source": [
    "## Prepare dataset for model\n",
    "* Normalised X - i.e. convert values from [0,255] to [0,1]\n",
    "* OHC Y manually using mapping dictionary\n",
    "* Shuffle list"
   ]
  },
  {
   "cell_type": "code",
   "execution_count": 21,
   "id": "6d6dcb8d-a182-421d-8925-5d0deae81655",
   "metadata": {
    "tags": []
   },
   "outputs": [],
   "source": [
    "def OHE_class_name(class_name: str, mapping_dict: dict) -> list:\n",
    "    nb_classes = len(mapping_dict)\n",
    "    OHE_output = [0] * nb_classes\n",
    "    OHE_output[mapping_dict[class_name]] = 1\n",
    "    # Need to convert the np.ndarray into a list so it can be parsed into JSON\n",
    "    return OHE_output"
   ]
  },
  {
   "cell_type": "code",
   "execution_count": 22,
   "id": "fff6e172-354d-4446-95ca-648e0cec73bf",
   "metadata": {
    "tags": []
   },
   "outputs": [],
   "source": [
    "for i in range(len(bmp_50class_10pc)) :\n",
    "    drawing = bmp_50class_10pc[i]\n",
    "\n",
    "    # Normalise X value - i.e. divide by 255\n",
    "    drawing['bmp'] = drawing['bmp']/255\n",
    "    # Reshape X in 28x28 bmp shape\n",
    "    drawing['bmp'] = drawing['bmp'].reshape(28,28)\n",
    "    # OHE class\n",
    "    drawing['OHE_class'] = OHE_class_name(drawing['class'], dict_50_class_subset)\n"
   ]
  },
  {
   "cell_type": "code",
   "execution_count": 23,
   "id": "7031fde7-b474-4e4c-9dc9-3dabbd31026b",
   "metadata": {
    "collapsed": true,
    "jupyter": {
     "outputs_hidden": true
    },
    "tags": []
   },
   "outputs": [
    {
     "data": {
      "text/plain": [
       "{'class': 'aircraft carrier',\n",
       " 'bmp': array([[0.        , 0.        , 0.        , 0.        , 0.        ,\n",
       "         0.        , 0.        , 0.        , 0.        , 0.        ,\n",
       "         0.        , 0.        , 0.        , 0.        , 0.        ,\n",
       "         0.        , 0.        , 0.        , 0.        , 0.        ,\n",
       "         0.        , 0.        , 0.        , 0.        , 0.        ,\n",
       "         0.        , 0.        , 0.        ],\n",
       "        [0.        , 0.        , 0.        , 0.        , 0.        ,\n",
       "         0.        , 0.        , 0.        , 0.        , 0.        ,\n",
       "         0.        , 0.        , 0.        , 0.        , 0.        ,\n",
       "         0.        , 0.        , 0.        , 0.        , 0.        ,\n",
       "         0.        , 0.        , 0.        , 0.        , 0.        ,\n",
       "         0.        , 0.        , 0.        ],\n",
       "        [0.        , 0.        , 0.        , 0.        , 0.        ,\n",
       "         0.        , 0.        , 0.        , 0.        , 0.        ,\n",
       "         0.        , 0.        , 0.        , 0.        , 0.        ,\n",
       "         0.        , 0.        , 0.        , 0.        , 0.        ,\n",
       "         0.        , 0.        , 0.        , 0.        , 0.        ,\n",
       "         0.        , 0.        , 0.        ],\n",
       "        [0.        , 0.        , 0.        , 0.        , 0.        ,\n",
       "         0.        , 0.        , 0.        , 0.        , 0.        ,\n",
       "         0.        , 0.        , 0.        , 0.        , 0.        ,\n",
       "         0.        , 0.        , 0.        , 0.        , 0.        ,\n",
       "         0.        , 0.        , 0.        , 0.        , 0.        ,\n",
       "         0.        , 0.        , 0.        ],\n",
       "        [0.        , 0.        , 0.        , 0.        , 0.        ,\n",
       "         0.        , 0.        , 0.        , 0.        , 0.        ,\n",
       "         0.        , 0.        , 0.        , 0.        , 0.        ,\n",
       "         0.        , 0.        , 0.        , 0.        , 0.        ,\n",
       "         0.        , 0.        , 0.        , 0.        , 0.        ,\n",
       "         0.        , 0.        , 0.        ],\n",
       "        [0.        , 0.        , 0.        , 0.        , 0.        ,\n",
       "         0.        , 0.        , 0.        , 0.        , 0.        ,\n",
       "         0.        , 0.        , 0.        , 0.        , 0.        ,\n",
       "         0.        , 0.        , 0.        , 0.        , 0.        ,\n",
       "         0.        , 0.        , 0.        , 0.        , 0.        ,\n",
       "         0.        , 0.        , 0.        ],\n",
       "        [0.        , 0.        , 0.        , 0.        , 0.        ,\n",
       "         0.        , 0.        , 0.        , 0.        , 0.        ,\n",
       "         0.        , 0.        , 0.        , 0.        , 0.        ,\n",
       "         0.        , 0.        , 0.        , 0.        , 0.        ,\n",
       "         0.        , 0.        , 0.        , 0.        , 0.        ,\n",
       "         0.        , 0.        , 0.        ],\n",
       "        [0.        , 0.        , 0.        , 0.        , 0.        ,\n",
       "         0.        , 0.        , 0.        , 0.        , 0.        ,\n",
       "         0.        , 0.        , 0.        , 0.        , 0.        ,\n",
       "         0.        , 0.        , 0.        , 0.        , 0.        ,\n",
       "         0.        , 0.        , 0.        , 0.        , 0.        ,\n",
       "         0.        , 0.        , 0.        ],\n",
       "        [0.        , 0.        , 0.        , 0.        , 0.01960784,\n",
       "         0.0627451 , 0.        , 0.        , 0.        , 0.        ,\n",
       "         0.        , 0.        , 0.        , 0.        , 0.        ,\n",
       "         0.        , 0.        , 0.        , 0.        , 0.        ,\n",
       "         0.        , 0.        , 0.        , 0.        , 0.        ,\n",
       "         0.        , 0.        , 0.        ],\n",
       "        [0.        , 0.        , 0.        , 0.3254902 , 0.97254902,\n",
       "         0.99215686, 0.39607843, 0.        , 0.        , 0.        ,\n",
       "         0.        , 0.        , 0.        , 0.        , 0.        ,\n",
       "         0.        , 0.        , 0.        , 0.        , 0.        ,\n",
       "         0.        , 0.        , 0.        , 0.        , 0.        ,\n",
       "         0.        , 0.        , 0.        ],\n",
       "        [0.        , 0.        , 0.        , 0.19607843, 0.98823529,\n",
       "         1.        , 0.72156863, 0.12941176, 0.07058824, 0.04705882,\n",
       "         0.        , 0.        , 0.        , 0.        , 0.        ,\n",
       "         0.        , 0.        , 0.        , 0.        , 0.        ,\n",
       "         0.        , 0.        , 0.        , 0.        , 0.        ,\n",
       "         0.        , 0.        , 0.        ],\n",
       "        [0.        , 0.        , 0.        , 0.        , 0.41568627,\n",
       "         1.        , 0.75294118, 1.        , 1.        , 0.99607843,\n",
       "         0.29019608, 0.        , 0.        , 0.        , 0.        ,\n",
       "         0.        , 0.        , 0.        , 0.        , 0.        ,\n",
       "         0.        , 0.        , 0.        , 0.        , 0.        ,\n",
       "         0.        , 0.        , 0.        ],\n",
       "        [0.        , 0.        , 0.        , 0.        , 0.39607843,\n",
       "         1.        , 0.96470588, 0.98823529, 0.90588235, 1.        ,\n",
       "         0.31372549, 0.        , 0.        , 0.        , 0.        ,\n",
       "         0.        , 0.        , 0.        , 0.        , 0.        ,\n",
       "         0.        , 0.        , 0.        , 0.        , 0.        ,\n",
       "         0.        , 0.        , 0.        ],\n",
       "        [0.        , 0.05490196, 0.44705882, 0.53333333, 0.74509804,\n",
       "         0.99215686, 0.83921569, 0.87843137, 0.89803922, 1.        ,\n",
       "         0.69411765, 0.53333333, 0.53333333, 0.53333333, 0.53333333,\n",
       "         0.53333333, 0.53333333, 0.53333333, 0.53333333, 0.53333333,\n",
       "         0.50196078, 0.43921569, 0.38039216, 0.32156863, 0.2627451 ,\n",
       "         0.18823529, 0.00784314, 0.        ],\n",
       "        [0.        , 0.36470588, 1.        , 0.95294118, 0.9372549 ,\n",
       "         0.94901961, 0.93333333, 0.93333333, 0.94117647, 0.96862745,\n",
       "         0.93333333, 0.93333333, 0.93333333, 0.93333333, 0.93333333,\n",
       "         0.93333333, 0.93333333, 0.93333333, 0.93333333, 0.93333333,\n",
       "         0.97647059, 1.        , 1.        , 1.        , 1.        ,\n",
       "         1.        , 0.36862745, 0.        ],\n",
       "        [0.        , 0.08627451, 0.98431373, 0.49019608, 0.        ,\n",
       "         0.        , 0.        , 0.        , 0.        , 0.        ,\n",
       "         0.        , 0.        , 0.        , 0.        , 0.        ,\n",
       "         0.        , 0.        , 0.        , 0.        , 0.        ,\n",
       "         0.        , 0.03529412, 0.09411765, 0.15294118, 0.32941176,\n",
       "         1.        , 0.34117647, 0.        ],\n",
       "        [0.        , 0.        , 0.70980392, 0.97254902, 0.74901961,\n",
       "         0.62352941, 0.26666667, 0.2       , 0.2       , 0.13333333,\n",
       "         0.13333333, 0.09019608, 0.06666667, 0.04313725, 0.        ,\n",
       "         0.        , 0.        , 0.        , 0.        , 0.        ,\n",
       "         0.        , 0.02352941, 0.09411765, 0.16862745, 0.41960784,\n",
       "         1.        , 0.23921569, 0.        ],\n",
       "        [0.        , 0.        , 0.1254902 , 0.52156863, 0.81568627,\n",
       "         1.        , 1.        , 1.        , 1.        , 1.        ,\n",
       "         1.        , 1.        , 1.        , 1.        , 1.        ,\n",
       "         1.        , 0.93333333, 0.93333333, 0.89019608, 0.88235294,\n",
       "         0.95294118, 1.        , 1.        , 1.        , 1.        ,\n",
       "         0.91372549, 0.08235294, 0.        ],\n",
       "        [0.        , 0.        , 0.        , 0.        , 0.05490196,\n",
       "         0.68235294, 0.84313725, 0.89019608, 0.9254902 , 0.95686275,\n",
       "         1.        , 1.        , 1.        , 1.        , 0.7372549 ,\n",
       "         0.49019608, 0.53333333, 0.5372549 , 0.6       , 0.59215686,\n",
       "         0.52156863, 0.45098039, 0.38039216, 0.30980392, 0.22745098,\n",
       "         0.02352941, 0.        , 0.        ],\n",
       "        [0.        , 0.        , 0.        , 0.        , 0.        ,\n",
       "         0.        , 0.        , 0.        , 0.        , 0.        ,\n",
       "         0.        , 0.04705882, 0.09019608, 0.13333333, 0.01568627,\n",
       "         0.        , 0.        , 0.        , 0.        , 0.        ,\n",
       "         0.        , 0.        , 0.        , 0.        , 0.        ,\n",
       "         0.        , 0.        , 0.        ],\n",
       "        [0.        , 0.        , 0.        , 0.        , 0.        ,\n",
       "         0.        , 0.        , 0.        , 0.        , 0.        ,\n",
       "         0.        , 0.        , 0.        , 0.        , 0.        ,\n",
       "         0.        , 0.        , 0.        , 0.        , 0.        ,\n",
       "         0.        , 0.        , 0.        , 0.        , 0.        ,\n",
       "         0.        , 0.        , 0.        ],\n",
       "        [0.        , 0.        , 0.        , 0.        , 0.        ,\n",
       "         0.        , 0.        , 0.        , 0.        , 0.        ,\n",
       "         0.        , 0.        , 0.        , 0.        , 0.        ,\n",
       "         0.        , 0.        , 0.        , 0.        , 0.        ,\n",
       "         0.        , 0.        , 0.        , 0.        , 0.        ,\n",
       "         0.        , 0.        , 0.        ],\n",
       "        [0.        , 0.        , 0.        , 0.        , 0.        ,\n",
       "         0.        , 0.        , 0.        , 0.        , 0.        ,\n",
       "         0.        , 0.        , 0.        , 0.        , 0.        ,\n",
       "         0.        , 0.        , 0.        , 0.        , 0.        ,\n",
       "         0.        , 0.        , 0.        , 0.        , 0.        ,\n",
       "         0.        , 0.        , 0.        ],\n",
       "        [0.        , 0.        , 0.        , 0.        , 0.        ,\n",
       "         0.        , 0.        , 0.        , 0.        , 0.        ,\n",
       "         0.        , 0.        , 0.        , 0.        , 0.        ,\n",
       "         0.        , 0.        , 0.        , 0.        , 0.        ,\n",
       "         0.        , 0.        , 0.        , 0.        , 0.        ,\n",
       "         0.        , 0.        , 0.        ],\n",
       "        [0.        , 0.        , 0.        , 0.        , 0.        ,\n",
       "         0.        , 0.        , 0.        , 0.        , 0.        ,\n",
       "         0.        , 0.        , 0.        , 0.        , 0.        ,\n",
       "         0.        , 0.        , 0.        , 0.        , 0.        ,\n",
       "         0.        , 0.        , 0.        , 0.        , 0.        ,\n",
       "         0.        , 0.        , 0.        ],\n",
       "        [0.        , 0.        , 0.        , 0.        , 0.        ,\n",
       "         0.        , 0.        , 0.        , 0.        , 0.        ,\n",
       "         0.        , 0.        , 0.        , 0.        , 0.        ,\n",
       "         0.        , 0.        , 0.        , 0.        , 0.        ,\n",
       "         0.        , 0.        , 0.        , 0.        , 0.        ,\n",
       "         0.        , 0.        , 0.        ],\n",
       "        [0.        , 0.        , 0.        , 0.        , 0.        ,\n",
       "         0.        , 0.        , 0.        , 0.        , 0.        ,\n",
       "         0.        , 0.        , 0.        , 0.        , 0.        ,\n",
       "         0.        , 0.        , 0.        , 0.        , 0.        ,\n",
       "         0.        , 0.        , 0.        , 0.        , 0.        ,\n",
       "         0.        , 0.        , 0.        ],\n",
       "        [0.        , 0.        , 0.        , 0.        , 0.        ,\n",
       "         0.        , 0.        , 0.        , 0.        , 0.        ,\n",
       "         0.        , 0.        , 0.        , 0.        , 0.        ,\n",
       "         0.        , 0.        , 0.        , 0.        , 0.        ,\n",
       "         0.        , 0.        , 0.        , 0.        , 0.        ,\n",
       "         0.        , 0.        , 0.        ]]),\n",
       " 'OHE_class': [1,\n",
       "  0,\n",
       "  0,\n",
       "  0,\n",
       "  0,\n",
       "  0,\n",
       "  0,\n",
       "  0,\n",
       "  0,\n",
       "  0,\n",
       "  0,\n",
       "  0,\n",
       "  0,\n",
       "  0,\n",
       "  0,\n",
       "  0,\n",
       "  0,\n",
       "  0,\n",
       "  0,\n",
       "  0,\n",
       "  0,\n",
       "  0,\n",
       "  0,\n",
       "  0,\n",
       "  0,\n",
       "  0,\n",
       "  0,\n",
       "  0,\n",
       "  0,\n",
       "  0,\n",
       "  0,\n",
       "  0,\n",
       "  0,\n",
       "  0,\n",
       "  0,\n",
       "  0,\n",
       "  0,\n",
       "  0,\n",
       "  0,\n",
       "  0,\n",
       "  0,\n",
       "  0,\n",
       "  0,\n",
       "  0,\n",
       "  0,\n",
       "  0,\n",
       "  0,\n",
       "  0,\n",
       "  0,\n",
       "  0]}"
      ]
     },
     "execution_count": 23,
     "metadata": {},
     "output_type": "execute_result"
    }
   ],
   "source": [
    "bmp_50class_10pc[0]"
   ]
  },
  {
   "cell_type": "code",
   "execution_count": 24,
   "id": "c204a0e8-f93a-45bb-9d1b-295cf80719df",
   "metadata": {
    "tags": []
   },
   "outputs": [],
   "source": [
    "# Shuffle list\n",
    "random.shuffle(bmp_50class_10pc)"
   ]
  },
  {
   "cell_type": "code",
   "execution_count": 25,
   "id": "f7f7f54f-aa7d-4135-a580-08f2f368e235",
   "metadata": {
    "tags": []
   },
   "outputs": [
    {
     "name": "stdout",
     "output_type": "stream",
     "text": [
      "['snowflake', 'traffic light', 'hand', 'bulldozer', 'hand', 'bulldozer', 'butterfly', 'fan', 'fish', 'bottlecap', 'hand', 'fence', 'spider', 'grapes', 'chair', 'lighthouse', 'marker', 'line', 'spider', 'chair', 'horse', 'pliers', 'fence', 'chair', 'trumpet', 'swing set', 'marker', 'television', 'hat', 'bottlecap', 'broom', 'chair', 'lighthouse', 'marker', 'drums', 'trumpet', 'trumpet', 'parachute', 'grapes', 'telephone', 'asparagus', 'bottlecap', 'marker', 'banana', 'violin', 'passport', 'bread', 'hat', 'line', 'butterfly']\n"
     ]
    }
   ],
   "source": [
    "# Check the data has been suitably shuffled\n",
    "print([drawing['class'] for drawing in bmp_50class_10pc[0:50]])"
   ]
  },
  {
   "cell_type": "markdown",
   "id": "70823be9-c7e0-482d-9467-bb821b49acf0",
   "metadata": {},
   "source": [
    "# RUN A CNN MODEL ON DATASET"
   ]
  },
  {
   "cell_type": "markdown",
   "id": "deab4726-5717-4a98-9b38-a9326c00c28f",
   "metadata": {},
   "source": [
    "## Prepare train, val and test sets for model"
   ]
  },
  {
   "cell_type": "code",
   "execution_count": 27,
   "id": "4ea59421-8bca-49a9-9ffd-ec692899ae78",
   "metadata": {
    "tags": []
   },
   "outputs": [],
   "source": [
    "# Import relevant packages:\n",
    "from tensorflow.keras import layers\n",
    "from tensorflow.keras import models\n",
    "from tensorflow.keras import callbacks\n",
    "from tensorflow.keras.optimizers import Adam\n",
    "from sklearn.model_selection import train_test_split\n",
    "import numpy as np\n",
    "from typing import Tuple\n",
    "import time"
   ]
  },
  {
   "cell_type": "code",
   "execution_count": 28,
   "id": "4c85b571-76d5-4dc1-b76e-26e02db29338",
   "metadata": {
    "tags": []
   },
   "outputs": [
    {
     "data": {
      "text/plain": [
       "(797637, 28, 28)"
      ]
     },
     "execution_count": 28,
     "metadata": {},
     "output_type": "execute_result"
    }
   ],
   "source": [
    "X = np.array([drawing['bmp'] for drawing in bmp_50class_10pc])\n",
    "X.shape"
   ]
  },
  {
   "cell_type": "code",
   "execution_count": 29,
   "id": "5119a7a7-a51c-4555-88f7-3841befba2e0",
   "metadata": {
    "tags": []
   },
   "outputs": [
    {
     "data": {
      "text/plain": [
       "(797637, 50)"
      ]
     },
     "execution_count": 29,
     "metadata": {},
     "output_type": "execute_result"
    }
   ],
   "source": [
    "y = np.array([drawing['OHE_class'] for drawing in bmp_50class_10pc])\n",
    "y.shape"
   ]
  },
  {
   "cell_type": "code",
   "execution_count": 30,
   "id": "8ccdc217-d442-458c-84e0-4802377a442f",
   "metadata": {
    "tags": []
   },
   "outputs": [],
   "source": [
    "# Split X_train & y_train in train and val sets\n",
    "X_train, X_test, y_train, y_test = train_test_split(X, y, test_size = 0.3)"
   ]
  },
  {
   "cell_type": "code",
   "execution_count": 31,
   "id": "f35cf14f-6473-4cbc-b8a7-603cb62ae9d5",
   "metadata": {
    "tags": []
   },
   "outputs": [
    {
     "name": "stdout",
     "output_type": "stream",
     "text": [
      "558345\n",
      "239292\n"
     ]
    }
   ],
   "source": [
    "print(len(X_train))\n",
    "print(len(X_test))"
   ]
  },
  {
   "cell_type": "markdown",
   "id": "abfa3f62-7f6f-4fcf-b9f4-260029f2e59d",
   "metadata": {},
   "source": [
    "## Initialise & compile model"
   ]
  },
  {
   "cell_type": "code",
   "execution_count": 32,
   "id": "0d3fb3fe-3d87-4304-9d5f-a26b67ed330a",
   "metadata": {
    "tags": []
   },
   "outputs": [],
   "source": [
    "# Initialise model\n",
    "def initialize_model() -> models.Model:\n",
    "    '''\n",
    "    Initialise model with the same CNN structure we used for number recognition - accepting bmp files of dimension 28x28 bits\n",
    "    * `Conv2D` layer with 8 filters, each of size (4, 4), an input shape of (28x28), the `relu` activation function, and `padding='same'\n",
    "    * `MaxPool2D` layer with a `pool_size` equal to (2, 2)\n",
    "    * second `Conv2D` layer with 16 filters, each of size (3, 3), and the `relu` activation function\n",
    "    * second `MaxPool2D` layer with a `pool_size` equal to (2, 2)\n",
    "\n",
    "    * `Flatten` layer\n",
    "    * first `Dense` layer with 10 neurons and the `relu` activation function\n",
    "    * last softmax predictive layer of 50 classes - i.e. number of classes in data subset\n",
    "    '''\n",
    "\n",
    "    model = models.Sequential()\n",
    "\n",
    "    ### First Convolution & MaxPooling\n",
    "    model.add(layers.Conv2D(8, (4,4), input_shape=(28, 28, 1), activation='relu', padding='same'))\n",
    "    model.add(layers.MaxPool2D(pool_size=(2,2)))\n",
    "\n",
    "    ### Second Convolution & MaxPooling\n",
    "    model.add(layers.Conv2D(16, (3,3), activation='relu', padding='same'))\n",
    "    model.add(layers.MaxPool2D(pool_size=(2,2)))\n",
    "\n",
    "    ### Flattening\n",
    "    model.add(layers.Flatten())\n",
    "\n",
    "    ### One Fully Connected layer - \"Fully Connected\" is equivalent to saying \"Dense\"\n",
    "    model.add(layers.Dense(10, activation='relu'))\n",
    "\n",
    "    ### Last layer - Classification Layer with 10 outputs corresponding to 10 digits\n",
    "    model.add(layers.Dense(50, activation='softmax'))\n",
    "\n",
    "    print(\"✅ Model initialized\")\n",
    "\n",
    "    return model"
   ]
  },
  {
   "cell_type": "code",
   "execution_count": 33,
   "id": "50f3d3a6-253f-4c96-85fb-ca86e0b8617c",
   "metadata": {
    "tags": []
   },
   "outputs": [],
   "source": [
    "def compile_model(model: models.Model, learning_rate=0.0005) -> models.Model:\n",
    "    '''\n",
    "    Compile the model, which:\n",
    "    * optimizes the `categorical_crossentropy` loss function,\n",
    "    * with the `adam` optimizer with learning_rate=0.0005,\n",
    "    * and the `accuracy` as the metrics\n",
    "    '''\n",
    "\n",
    "    # Create optimizer with custom learning rate\n",
    "    optimizer = Adam(learning_rate=learning_rate)\n",
    "\n",
    "    # Compile model\n",
    "    model.compile(loss=\"categorical_crossentropy\",\n",
    "                  optimizer=optimizer,\n",
    "                  metrics=[\"accuracy\"])\n",
    "\n",
    "    print(\"✅ Model compiled\")\n",
    "\n",
    "    return model"
   ]
  },
  {
   "cell_type": "markdown",
   "id": "76b7ccd0-19d8-4c58-a08c-7006c5e0d89a",
   "metadata": {},
   "source": [
    "## Train model"
   ]
  },
  {
   "cell_type": "code",
   "execution_count": 34,
   "id": "9fc3cbc7-2334-41df-b018-410badcf57ee",
   "metadata": {
    "tags": []
   },
   "outputs": [],
   "source": [
    "# Save json to local folder - to store training history\n",
    "def save_json_to_local (data: list, folder_path: str, file_name: str) -> None:\n",
    "    file_path = folder_path+file_name\n",
    "    with open(file_path, 'w') as file :\n",
    "        json.dump(data, file)\n",
    "    print(f'Saved data to {file_path}')\n",
    "    return None"
   ]
  },
  {
   "cell_type": "code",
   "execution_count": null,
   "id": "229bae84-4edb-4855-bf6d-4bfa57b5a587",
   "metadata": {
    "tags": []
   },
   "outputs": [],
   "source": [
    "def train_model(\n",
    "            model: models.Model,\n",
    "            X: np.ndarray,\n",
    "            y: np.ndarray,\n",
    "            batch_size=256,\n",
    "            patience=5,\n",
    "            validation_data=None, # overrides validation_split, if available\n",
    "            validation_split=0.2\n",
    "            ) -> Tuple[models.Model, dict]:\n",
    "    '''\n",
    "    Train on the model and return a tuple (fitted_model, history)\n",
    "    Checkpoints have also been included to store model weights after each epoch\n",
    "    '''\n",
    "\n",
    "    es = callbacks.EarlyStopping(\n",
    "            monitor=\"val_accuracy\",\n",
    "            patience=patience,\n",
    "            restore_best_weights=True,\n",
    "            verbose=1\n",
    "            )\n",
    "\n",
    "    # Create checkpoints - add timestamp to prevent writing over old training runs\n",
    "    timestr = time.strftime(\"%Y%m%d-%H%M%S\")\n",
    "    checkpoint_filepath = '/home/jupyter/data/numpy_bitmap/CNN_model'+timestr\n",
    "\n",
    "    #Save the checkpoints in the checkpoint_filepath\n",
    "    model_checkpoint_callback = callbacks.ModelCheckpoint(\n",
    "            filepath=checkpoint_filepath,\n",
    "            save_weights_only=True,\n",
    "            monitor='val_accuracy',\n",
    "            mode='max',\n",
    "            save_best_only=True\n",
    "            )\n",
    "\n",
    "    history = model.fit(\n",
    "            X,\n",
    "            y,\n",
    "            validation_data=validation_data,\n",
    "            validation_split=validation_split,\n",
    "            epochs=1000,\n",
    "            batch_size=batch_size,\n",
    "            callbacks=[es, model_checkpoint_callback],\n",
    "            verbose=1\n",
    "            )\n",
    "\n",
    "    print(f\"✅ Model trained on {len(X)} rows with maximum val accuracy: {round(np.min(history.history['accuracy']), 2)}\")\n",
    "\n",
    "    save_json_to_local (history, checkpoint_filepath, 'model_history_'+timestr)\n",
    "\n",
    "    return model, history\n"
   ]
  },
  {
   "cell_type": "code",
   "execution_count": 58,
   "id": "c40568b0-b0e3-4d21-b913-b5852780ba37",
   "metadata": {
    "tags": []
   },
   "outputs": [],
   "source": [
    "def evaluate_model(\n",
    "            model: models.Model,\n",
    "            X: np.ndarray,\n",
    "            y: np.ndarray,\n",
    "            batch_size=64\n",
    "            ) -> Tuple[models.Model, dict]:\n",
    "    '''\n",
    "    Evaluate performance of the trained model on the test dataset\n",
    "    Returns evaluation metrics\n",
    "    '''\n",
    "\n",
    "    if model is None:\n",
    "        print(f\"\\n❌ No model to evaluate\")\n",
    "        return None\n",
    "\n",
    "    metrics = model.evaluate(\n",
    "            x=X,\n",
    "            y=y,\n",
    "            batch_size=batch_size,\n",
    "            verbose=1,\n",
    "            # callbacks=None,\n",
    "            return_dict=True\n",
    "            )\n",
    "\n",
    "    loss = metrics[\"loss\"]\n",
    "    accuracy = metrics[\"accuracy\"]\n",
    "\n",
    "    print(f\"✅ Model evaluated, accuracy: {round(accuracy, 2)}\")\n",
    "\n",
    "    return metrics\n"
   ]
  },
  {
   "cell_type": "markdown",
   "id": "64faacaf-6834-4860-92f0-5a305af0ea30",
   "metadata": {},
   "source": [
    "## Run the model!"
   ]
  },
  {
   "cell_type": "code",
   "execution_count": 56,
   "id": "83ee91b8-ce90-4666-84e0-394d6b5afc0a",
   "metadata": {
    "tags": []
   },
   "outputs": [
    {
     "name": "stdout",
     "output_type": "stream",
     "text": [
      "✅ Model initialized\n",
      "✅ Model compiled\n",
      "Model: \"sequential_5\"\n",
      "_________________________________________________________________\n",
      " Layer (type)                Output Shape              Param #   \n",
      "=================================================================\n",
      " conv2d_10 (Conv2D)          (None, 28, 28, 8)         136       \n",
      "                                                                 \n",
      " max_pooling2d_10 (MaxPoolin  (None, 14, 14, 8)        0         \n",
      " g2D)                                                            \n",
      "                                                                 \n",
      " conv2d_11 (Conv2D)          (None, 14, 14, 16)        1168      \n",
      "                                                                 \n",
      " max_pooling2d_11 (MaxPoolin  (None, 7, 7, 16)         0         \n",
      " g2D)                                                            \n",
      "                                                                 \n",
      " flatten_5 (Flatten)         (None, 784)               0         \n",
      "                                                                 \n",
      " dense_10 (Dense)            (None, 10)                7850      \n",
      "                                                                 \n",
      " dense_11 (Dense)            (None, 50)                550       \n",
      "                                                                 \n",
      "=================================================================\n",
      "Total params: 9,704\n",
      "Trainable params: 9,704\n",
      "Non-trainable params: 0\n",
      "_________________________________________________________________\n"
     ]
    }
   ],
   "source": [
    "# Model summary\n",
    "model = initialize_model()\n",
    "model = compile_model(model)\n",
    "model.summary()"
   ]
  },
  {
   "cell_type": "code",
   "execution_count": null,
   "id": "41ac1f0c-4212-4bbd-8dc0-897544968d6c",
   "metadata": {
    "tags": []
   },
   "outputs": [
    {
     "name": "stdout",
     "output_type": "stream",
     "text": [
      "Epoch 1/1000\n",
      "1745/1745 [==============================] - 22s 12ms/step - loss: 2.4684 - accuracy: 0.3729 - val_loss: 1.9501 - val_accuracy: 0.5086\n",
      "Epoch 2/1000\n",
      "1745/1745 [==============================] - 21s 12ms/step - loss: 1.8132 - accuracy: 0.5399 - val_loss: 1.7121 - val_accuracy: 0.5642\n",
      "Epoch 3/1000\n",
      "1745/1745 [==============================] - 21s 12ms/step - loss: 1.6519 - accuracy: 0.5812 - val_loss: 1.6004 - val_accuracy: 0.5975\n",
      "Epoch 4/1000\n",
      "1745/1745 [==============================] - 21s 12ms/step - loss: 1.5719 - accuracy: 0.6022 - val_loss: 1.5483 - val_accuracy: 0.6076\n",
      "Epoch 5/1000\n",
      "1745/1745 [==============================] - 21s 12ms/step - loss: 1.5230 - accuracy: 0.6159 - val_loss: 1.5128 - val_accuracy: 0.6230\n",
      "Epoch 6/1000\n",
      "1745/1745 [==============================] - 21s 12ms/step - loss: 1.4878 - accuracy: 0.6257 - val_loss: 1.4831 - val_accuracy: 0.6264\n",
      "Epoch 7/1000\n",
      "1745/1745 [==============================] - 21s 12ms/step - loss: 1.4615 - accuracy: 0.6329 - val_loss: 1.4561 - val_accuracy: 0.6354\n",
      "Epoch 8/1000\n",
      "1745/1745 [==============================] - 21s 12ms/step - loss: 1.4379 - accuracy: 0.6391 - val_loss: 1.4275 - val_accuracy: 0.6432\n",
      "Epoch 9/1000\n",
      "1745/1745 [==============================] - 21s 12ms/step - loss: 1.4183 - accuracy: 0.6445 - val_loss: 1.4271 - val_accuracy: 0.6394\n",
      "Epoch 10/1000\n",
      "1745/1745 [==============================] - 21s 12ms/step - loss: 1.4009 - accuracy: 0.6493 - val_loss: 1.4032 - val_accuracy: 0.6482\n",
      "Epoch 11/1000\n",
      "1745/1745 [==============================] - 21s 12ms/step - loss: 1.3840 - accuracy: 0.6535 - val_loss: 1.3852 - val_accuracy: 0.6544\n",
      "Epoch 12/1000\n",
      "1745/1745 [==============================] - 21s 12ms/step - loss: 1.3691 - accuracy: 0.6576 - val_loss: 1.3657 - val_accuracy: 0.6591\n",
      "Epoch 13/1000\n",
      "1745/1745 [==============================] - 21s 12ms/step - loss: 1.3566 - accuracy: 0.6605 - val_loss: 1.3610 - val_accuracy: 0.6603\n",
      "Epoch 14/1000\n",
      "1744/1745 [============================>.] - ETA: 0s - loss: 1.3456 - accuracy: 0.6631"
     ]
    }
   ],
   "source": [
    "model, history = train_model(model, X_train, y_train, validation_split=0.2)"
   ]
  },
  {
   "cell_type": "code",
   "execution_count": 55,
   "id": "11fab94d-1574-4be6-bcf1-050779db1966",
   "metadata": {},
   "outputs": [
    {
     "name": "stdout",
     "output_type": "stream",
     "text": [
      "3739/3739 [==============================] - 9s 2ms/step - loss: 3.9180 - accuracy: 0.0212\n",
      "✅ Model evaluated, accuracy: 0.02\n"
     ]
    },
    {
     "data": {
      "text/plain": [
       "{'loss': 3.9179511070251465, 'accuracy': 0.021191682666540146}"
      ]
     },
     "execution_count": 55,
     "metadata": {},
     "output_type": "execute_result"
    }
   ],
   "source": [
    "evaluate_model(model, X_test, y_test)"
   ]
  },
  {
   "cell_type": "code",
   "execution_count": null,
   "id": "c3dfe5b2-f5ba-4454-86c0-94fe8ed57b7c",
   "metadata": {},
   "outputs": [],
   "source": []
  },
  {
   "cell_type": "code",
   "execution_count": null,
   "id": "27df8ce2-ad0d-40bd-a36d-b7b04845749f",
   "metadata": {},
   "outputs": [],
   "source": []
  }
 ],
 "metadata": {
  "environment": {
   "kernel": "python3",
   "name": "tf2-cpu.2-11.m118",
   "type": "gcloud",
   "uri": "us-docker.pkg.dev/deeplearning-platform-release/gcr.io/tf2-cpu.2-11:m118"
  },
  "kernelspec": {
   "display_name": "Python 3",
   "language": "python",
   "name": "python3"
  },
  "language_info": {
   "codemirror_mode": {
    "name": "ipython",
    "version": 3
   },
   "file_extension": ".py",
   "mimetype": "text/x-python",
   "name": "python",
   "nbconvert_exporter": "python",
   "pygments_lexer": "ipython3",
   "version": "3.10.13"
  }
 },
 "nbformat": 4,
 "nbformat_minor": 5
}
