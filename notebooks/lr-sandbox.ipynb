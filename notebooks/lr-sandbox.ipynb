{
 "cells": [
  {
   "cell_type": "code",
   "execution_count": 1,
   "id": "90717529-154a-4ffd-b1fe-54c0ddf8bbd7",
   "metadata": {},
   "outputs": [],
   "source": [
    "import os, ujson, linecache"
   ]
  },
  {
   "cell_type": "code",
   "execution_count": 4,
   "id": "3b3aad91-99e7-4189-a65f-fbfb64cee363",
   "metadata": {},
   "outputs": [
    {
     "data": {
      "text/plain": [
       "'/Users/loicregne/code/rs-uk/pictionary-ai/shared_data'"
      ]
     },
     "execution_count": 4,
     "metadata": {},
     "output_type": "execute_result"
    }
   ],
   "source": [
    "LOCAL_SHARED_DATA_PATH = '/Users/loicregne/code/rs-uk/pictionary-ai/shared_data'\n",
    "LOCAL_SHARED_DATA_PATH"
   ]
  },
  {
   "cell_type": "code",
   "execution_count": 5,
   "id": "740c6962-8cdc-4118-a375-fc7a3184d085",
   "metadata": {},
   "outputs": [],
   "source": [
    "DICT_OHE = ujson.loads(linecache.getline(f\"{LOCAL_SHARED_DATA_PATH}/dict_50_class_subset.json\", 1 , module_globals=None))"
   ]
  },
  {
   "cell_type": "code",
   "execution_count": 6,
   "id": "2ed5ff05-6e95-4103-a9d1-e5ca6344b2c8",
   "metadata": {},
   "outputs": [
    {
     "data": {
      "text/plain": [
       "{'aircraft carrier': 0,\n",
       " 'arm': 1,\n",
       " 'asparagus': 2,\n",
       " 'backpack': 3,\n",
       " 'banana': 4,\n",
       " 'basketball': 5,\n",
       " 'bottlecap': 6,\n",
       " 'bread': 7,\n",
       " 'broom': 8,\n",
       " 'bulldozer': 9,\n",
       " 'butterfly': 10,\n",
       " 'camel': 11,\n",
       " 'canoe': 12,\n",
       " 'chair': 13,\n",
       " 'compass': 14,\n",
       " 'cookie': 15,\n",
       " 'drums': 16,\n",
       " 'eyeglasses': 17,\n",
       " 'face': 18,\n",
       " 'fan': 19,\n",
       " 'fence': 20,\n",
       " 'fish': 21,\n",
       " 'flying saucer': 22,\n",
       " 'grapes': 23,\n",
       " 'hand': 24,\n",
       " 'hat': 25,\n",
       " 'horse': 26,\n",
       " 'light bulb': 27,\n",
       " 'lighthouse': 28,\n",
       " 'line': 29,\n",
       " 'marker': 30,\n",
       " 'mountain': 31,\n",
       " 'mouse': 32,\n",
       " 'parachute': 33,\n",
       " 'passport': 34,\n",
       " 'pliers': 35,\n",
       " 'potato': 36,\n",
       " 'sea turtle': 37,\n",
       " 'snowflake': 38,\n",
       " 'spider': 39,\n",
       " 'square': 40,\n",
       " 'steak': 41,\n",
       " 'swing set': 42,\n",
       " 'sword': 43,\n",
       " 'telephone': 44,\n",
       " 'television': 45,\n",
       " 'tooth': 46,\n",
       " 'traffic light': 47,\n",
       " 'trumpet': 48,\n",
       " 'violin': 49}"
      ]
     },
     "execution_count": 6,
     "metadata": {},
     "output_type": "execute_result"
    }
   ],
   "source": [
    "DICT_OHE"
   ]
  },
  {
   "cell_type": "code",
   "execution_count": 7,
   "id": "e4ad7e82-ec5a-4167-ac48-e1e8013980ca",
   "metadata": {},
   "outputs": [
    {
     "data": {
      "text/plain": [
       "['aircraft carrier',\n",
       " 'arm',\n",
       " 'asparagus',\n",
       " 'backpack',\n",
       " 'banana',\n",
       " 'basketball',\n",
       " 'bottlecap',\n",
       " 'bread',\n",
       " 'broom',\n",
       " 'bulldozer',\n",
       " 'butterfly',\n",
       " 'camel',\n",
       " 'canoe',\n",
       " 'chair',\n",
       " 'compass',\n",
       " 'cookie',\n",
       " 'drums',\n",
       " 'eyeglasses',\n",
       " 'face',\n",
       " 'fan',\n",
       " 'fence',\n",
       " 'fish',\n",
       " 'flying saucer',\n",
       " 'grapes',\n",
       " 'hand',\n",
       " 'hat',\n",
       " 'horse',\n",
       " 'light bulb',\n",
       " 'lighthouse',\n",
       " 'line',\n",
       " 'marker',\n",
       " 'mountain',\n",
       " 'mouse',\n",
       " 'parachute',\n",
       " 'passport',\n",
       " 'pliers',\n",
       " 'potato',\n",
       " 'sea turtle',\n",
       " 'snowflake',\n",
       " 'spider',\n",
       " 'square',\n",
       " 'steak',\n",
       " 'swing set',\n",
       " 'sword',\n",
       " 'telephone',\n",
       " 'television',\n",
       " 'tooth',\n",
       " 'traffic light',\n",
       " 'trumpet',\n",
       " 'violin']"
      ]
     },
     "execution_count": 7,
     "metadata": {},
     "output_type": "execute_result"
    }
   ],
   "source": [
    "LIST_CLASSES = list(DICT_OHE.keys())\n",
    "LIST_CLASSES"
   ]
  },
  {
   "cell_type": "code",
   "execution_count": null,
   "id": "a369847e-7cf3-430b-bb57-8510bc6ac398",
   "metadata": {},
   "outputs": [],
   "source": []
  }
 ],
 "metadata": {
  "kernelspec": {
   "display_name": "Python 3 (ipykernel)",
   "language": "python",
   "name": "python3"
  },
  "language_info": {
   "codemirror_mode": {
    "name": "ipython",
    "version": 3
   },
   "file_extension": ".py",
   "mimetype": "text/x-python",
   "name": "python",
   "nbconvert_exporter": "python",
   "pygments_lexer": "ipython3",
   "version": "3.10.6"
  }
 },
 "nbformat": 4,
 "nbformat_minor": 5
}
